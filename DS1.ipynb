{
 "cells": [
  {
   "cell_type": "markdown",
   "metadata": {},
   "source": [
    "<center>Correction</center>"
   ]
  },
  {
   "cell_type": "markdown",
   "metadata": {},
   "source": [
    "Exercice 1"
   ]
  },
  {
   "cell_type": "code",
   "execution_count": 1,
   "metadata": {},
   "outputs": [],
   "source": [
    "from random import randint\n",
    "xmin, xmax = -20, 20\n",
    "ymin, ymax = -20, 20\n",
    "\n",
    "\n",
    "def genereListePoints(nbmin, nbmax):\n",
    "    \"\"\"\n",
    "    nbmin -- entier\n",
    "    nbmax -- entier\n",
    "    précondition: nbmin < nbmax\n",
    "\n",
    "    Renvoie une liste de couples d'entiers, \n",
    "    le premier élément de chaque couple\n",
    "    est compris entre xmin et xmax (au sens large), \n",
    "    le second élément de chaque couple est \n",
    "    compris entre ymin et ymax (au sens large).\n",
    "    Les couples (x, y) sont générés au hasard.\n",
    "    Le nombre de couples est généré au hasard, entre nbmin et nbmax.\n",
    "    \"\"\"\n",
    "    nbmin, nbmax = min(nbmin, nbmax), max(nbmin, nbmax)\n",
    "    return [(randint(xmin, xmax), randint(ymin, ymax)) for _ in range(randint(nbmin, nbmax))]"
   ]
  },
  {
   "cell_type": "code",
   "execution_count": 3,
   "metadata": {},
   "outputs": [
    {
     "name": "stdout",
     "output_type": "stream",
     "text": [
      "[(-17, -18), (8, 14), (0, -6), (-7, 12), (16, 12), (-2, 7), (15, -3), (9, -4), (-18, 9), (15, 14), (7, 2)]\n"
     ]
    }
   ],
   "source": [
    "print(genereListePoints(15, 10))"
   ]
  },
  {
   "cell_type": "code",
   "execution_count": 4,
   "metadata": {},
   "outputs": [],
   "source": [
    "from math import sqrt\n",
    "def distance(x,y,a,b):\n",
    "    \"\"\"\n",
    "    Renvoie la distance euclidienne entre A(a,b) et M(x,y)\n",
    "    \"\"\"\n",
    "    return sqrt((a-x)**2+(b-y)**2)"
   ]
  },
  {
   "cell_type": "code",
   "execution_count": 5,
   "metadata": {},
   "outputs": [
    {
     "data": {
      "text/plain": [
       "4.0"
      ]
     },
     "execution_count": 5,
     "metadata": {},
     "output_type": "execute_result"
    }
   ],
   "source": [
    "distance(0,2,4,2)"
   ]
  },
  {
   "cell_type": "code",
   "execution_count": 6,
   "metadata": {},
   "outputs": [],
   "source": [
    "def plusProcheVoisin(listePoints, x, y):\n",
    "    \"\"\"\n",
    "    listePoints -- liste de points à coordonnées entières \n",
    "    x -- entier entre xmin et xmax\n",
    "    y -- entier entre ymin et ymax\n",
    "\n",
    "    Renvoie le point de la liste listePoints le plus proche de (x,y)\n",
    "    \"\"\"\n",
    "    return min(listePoints , key = lambda M : distance(x,y,M[0],M[1]))"
   ]
  },
  {
   "cell_type": "code",
   "execution_count": 7,
   "metadata": {},
   "outputs": [
    {
     "data": {
      "text/plain": [
       "(-4, 4)"
      ]
     },
     "execution_count": 7,
     "metadata": {},
     "output_type": "execute_result"
    }
   ],
   "source": [
    "L = genereListePoints(5, 15)\n",
    "plusProcheVoisin(L, 0, 0) # point de la liste L le plus proche du point (0,0)"
   ]
  },
  {
   "cell_type": "code",
   "execution_count": 8,
   "metadata": {},
   "outputs": [
    {
     "data": {
      "text/plain": [
       "(-5, 8)"
      ]
     },
     "execution_count": 8,
     "metadata": {},
     "output_type": "execute_result"
    }
   ],
   "source": [
    "L = [(0, -18), (16, 2), (-3, -20), (17, 18), (-13, -1), (-5, 8), (-10, -13)]\n",
    "plusProcheVoisin(L, 0, 0)"
   ]
  },
  {
   "cell_type": "markdown",
   "metadata": {},
   "source": [
    "Exercice 2"
   ]
  },
  {
   "cell_type": "code",
   "execution_count": 29,
   "metadata": {},
   "outputs": [],
   "source": [
    "s = \"Paul Pogba va-t-il être appelé par Didier Deschamps pour la prochaine Coupe du monde au Qatar (20 novembre - 18 décembre) ? Le milieu de terrain de la Juventus, blessé au genou droit depuis le début de la saison, ne devrait pas retrouver la compétition avant le 10 novembre et un match de Serie A à l'Hellas Vérone. Son entraîneur Massimiliano Allegri a assuré vendredi en conférence de presse que Pogba manquerait les trois prochains matches de son équipe.\""
   ]
  },
  {
   "cell_type": "code",
   "execution_count": 32,
   "metadata": {},
   "outputs": [
    {
     "name": "stdout",
     "output_type": "stream",
     "text": [
      "{'e': 52, 't': 18, 'i': 23, 'o': 21, 'h': 6, 'î': 1, 'j': 1, 'm': 12, 'à': 1, 'v': 9, 'é': 9, 'c': 10, 'ê': 1, 'f': 1, 'p': 16, 'r': 28, 'd': 18, 'q': 4, 'l': 19, 'n': 24, 'a': 35, 'g': 4, 'u': 19, 'b': 7, 's': 23}\n"
     ]
    }
   ],
   "source": [
    "from string import punctuation\n",
    "s = s.lower().replace(' ', '')\n",
    "l = list(s)\n",
    "uniq = set(l)\n",
    "d = {}\n",
    "for k in uniq:\n",
    "    if k.isalpha() and k not in punctuation:\n",
    "        d[k] = l.count(k)\n",
    "print(d)"
   ]
  },
  {
   "cell_type": "code",
   "execution_count": 33,
   "metadata": {},
   "outputs": [
    {
     "name": "stdout",
     "output_type": "stream",
     "text": [
      "{'e': 52, 't': 18, 'i': 23, 'o': 21, 'h': 6, 'î': 1, 'j': 1, 'm': 12, 'à': 1, 'v': 9, 'é': 9, 'c': 10, 'ê': 1, 'f': 1, 'p': 16, 'r': 28, 'd': 18, 'q': 4, 'l': 19, 'n': 24, 'a': 35, 'g': 4, 'u': 19, 'b': 7, 's': 23}\n"
     ]
    }
   ],
   "source": [
    "from string import punctuation\n",
    "s = s.lower().replace(' ', '')\n",
    "l = list(s)\n",
    "uniq = set(l)\n",
    "d = {k:l.count(k) for k in uniq if k.isalpha() and k not in punctuation }\n",
    "print(d)"
   ]
  },
  {
   "cell_type": "markdown",
   "metadata": {},
   "source": [
    "Exercice 3"
   ]
  },
  {
   "cell_type": "code",
   "execution_count": 37,
   "metadata": {},
   "outputs": [
    {
     "name": "stdout",
     "output_type": "stream",
     "text": [
      "james ford 14.7\n",
      "mohamed hdafa 13.05625\n",
      "isaac cohen 12.095\n",
      "sarah alami 7.7125\n",
      "isabel larchet 6.875\n"
     ]
    }
   ],
   "source": [
    "# etudiants = [(ꞌnom_0 prenom_0ꞌ, (math_0, phy_0, …, eco_0)), …]\n",
    "etudiants = [\n",
    "    ('isaac cohen', (12, 18.5, 10, 7.86, 12.5, 13, 15, 7.9)),\n",
    "    ('james ford', (5.5, 19, 19, 19.5, 10, 11, 13.6, 20)),\n",
    "    ('isabel larchet', (10, 9, 9, 4, 17, 6, 0, 0)),\n",
    "    ('mohamed hdafa', (12, 11, 18.5, 20, 5, 10.45, 9.5, 18)),\n",
    "    ('sarah alami', (10, 10, 10, 10, 0, 5.7, 12.5, 3.5))\n",
    "]\n",
    "etudiants.sort(key = lambda c: sum(list(c[1]))/len(c[1]) , reverse=True)\n",
    "\n",
    "for e in etudiants:\n",
    "    print(e[0], sum(list(e[1]))/len(e[1]))\n"
   ]
  },
  {
   "cell_type": "code",
   "execution_count": 38,
   "metadata": {},
   "outputs": [
    {
     "data": {
      "text/plain": [
       "'isabel larchet'"
      ]
     },
     "execution_count": 38,
     "metadata": {},
     "output_type": "execute_result"
    }
   ],
   "source": [
    "etudiants = [\n",
    "    ('isaac cohen', (12, 18.5, 10, 7.86, 12.5, 13, 15, 7.9)),\n",
    "    ('james ford', (5.5, 19, 19, 19.5, 10, 11, 13.6, 20)),\n",
    "    ('isabel larchet', (10, 9, 9, 4, 17, 6, 0, 0)),\n",
    "    ('mohamed hdafa', (12, 11, 18.5, 20, 5, 10.45, 9.5, 18)),\n",
    "    ('sarah alami', (10, 10, 10, 10, 0, 5.7, 12.5, 3.5))\n",
    "]\n",
    "\n",
    "min(etudiants, key = lambda c : c[1][-1])[0]"
   ]
  },
  {
   "cell_type": "code",
   "execution_count": null,
   "metadata": {},
   "outputs": [],
   "source": []
  }
 ],
 "metadata": {
  "kernelspec": {
   "display_name": "Python 3.10.5 64-bit",
   "language": "python",
   "name": "python3"
  },
  "language_info": {
   "codemirror_mode": {
    "name": "ipython",
    "version": 3
   },
   "file_extension": ".py",
   "mimetype": "text/x-python",
   "name": "python",
   "nbconvert_exporter": "python",
   "pygments_lexer": "ipython3",
   "version": "3.10.5"
  },
  "orig_nbformat": 4,
  "vscode": {
   "interpreter": {
    "hash": "369f2c481f4da34e4445cda3fffd2e751bd1c4d706f27375911949ba6bb62e1c"
   }
  }
 },
 "nbformat": 4,
 "nbformat_minor": 2
}
